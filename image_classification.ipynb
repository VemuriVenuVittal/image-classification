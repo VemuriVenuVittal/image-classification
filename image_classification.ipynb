{
  "nbformat": 4,
  "nbformat_minor": 0,
  "metadata": {
    "colab": {
      "name": "image classification.ipynb",
      "provenance": [],
      "mount_file_id": "1xFibIS12WknIyCRusOJf2Xtol4yiV7Nx",
      "authorship_tag": "ABX9TyN3AMjrbtKCKEOrGT1huzjq",
      "include_colab_link": true
    },
    "kernelspec": {
      "name": "python3",
      "display_name": "Python 3"
    },
    "language_info": {
      "name": "python"
    }
  },
  "cells": [
    {
      "cell_type": "markdown",
      "metadata": {
        "id": "view-in-github",
        "colab_type": "text"
      },
      "source": [
        "<a href=\"https://colab.research.google.com/github/VemuriVenuVittal/image-classification/blob/main/image_classification.ipynb\" target=\"_parent\"><img src=\"https://colab.research.google.com/assets/colab-badge.svg\" alt=\"Open In Colab\"/></a>"
      ]
    },
    {
      "cell_type": "code",
      "metadata": {
        "id": "Yn1JnwLmNwfo"
      },
      "source": [
        "import os\n",
        "import matplotlib.pyplot as plt\n",
        "import numpy as np\n",
        "from skimage.io import imread\n",
        "from skimage.transform import resize\n",
        "target=[]\n",
        "images=[]\n",
        "flat_data=[]\n",
        "datadir='/content/drive/MyDrive/c&b'\n",
        "CATEGORIES=['bikes','cars']\n",
        "for category in CATEGORIES:\n",
        "  clas_num=CATEGORIES.index(category)\n",
        "  path=os.path.join(datadir,category)\n",
        "  for img in os.listdir(path):\n",
        "    img_array=imread(os.path.join(path,img))\n",
        "    img_resize=resize(img_array,(150,150,3))\n",
        "    flat_data.append(img_resize.flatten())\n",
        "    target.append(clas_num)\n",
        "    images.append(img_resize)\n",
        "flat_data=np.array(flat_data)\n",
        "target=np.array(target)\n",
        "images=np.array(images)"
      ],
      "execution_count": 6,
      "outputs": []
    },
    {
      "cell_type": "code",
      "metadata": {
        "id": "osIDM8KpN06U"
      },
      "source": [
        "from sklearn.model_selection import train_test_split\n",
        "x_train,x_test,y_train,y_test=train_test_split(flat_data,target,test_size=0.2,random_state=110)\n"
      ],
      "execution_count": 7,
      "outputs": []
    },
    {
      "cell_type": "code",
      "metadata": {
        "id": "QUqw5Ij2OHWr",
        "colab": {
          "base_uri": "https://localhost:8080/"
        },
        "outputId": "bbfc3042-57aa-4e28-dff3-020f27c28092"
      },
      "source": [
        "from xgboost import XGBClassifier\n",
        "from sklearn.metrics import accuracy_score\n",
        "cpl=XGBClassifier()\n",
        "cpl.fit(x_train,y_train)\n",
        "y_out=cpl.predict(x_test)\n",
        "print(y_out)\n",
        "print(accuracy_score(y_out,y_test))"
      ],
      "execution_count": 8,
      "outputs": [
        {
          "output_type": "stream",
          "text": [
            "[1 1 0 0 0 0 0 0 1 0 0 0 1 0 1 0 0 1 1 1 0 0 0 0 0 0 1 0 0 1 0 1 1 1 0 0 0\n",
            " 0 0 0 1 0 0 1 0 0 0 1 1 0 0 0 0 1 0 0 0 1 1 0 0 1 0 1 0 0 0 1 0 0 1 1 1 0\n",
            " 0 1 1 0 0 1 0 1 0 1 1 1 1]\n",
            "0.8390804597701149\n"
          ],
          "name": "stdout"
        }
      ]
    },
    {
      "cell_type": "code",
      "metadata": {
        "id": "IOTZFXp0O7Ix"
      },
      "source": [
        ""
      ],
      "execution_count": 8,
      "outputs": []
    }
  ]
}